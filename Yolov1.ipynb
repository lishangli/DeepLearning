{
  "nbformat": 4,
  "nbformat_minor": 0,
  "metadata": {
    "colab": {
      "provenance": [],
      "collapsed_sections": [],
      "authorship_tag": "ABX9TyMwlc8k2LXLTAkonE75Pl8V",
      "include_colab_link": true
    },
    "kernelspec": {
      "name": "python3",
      "display_name": "Python 3"
    },
    "language_info": {
      "name": "python"
    }
  },
  "cells": [
    {
      "cell_type": "markdown",
      "metadata": {
        "id": "view-in-github",
        "colab_type": "text"
      },
      "source": [
        "<a href=\"https://colab.research.google.com/github/lishangli/DeepLearning/blob/master/Yolov1.ipynb\" target=\"_parent\"><img src=\"https://colab.research.google.com/assets/colab-badge.svg\" alt=\"Open In Colab\"/></a>"
      ]
    },
    {
      "cell_type": "code",
      "execution_count": null,
      "metadata": {
        "id": "eGtK649FAdr7"
      },
      "outputs": [],
      "source": [
        "import torch.nn as nn\n",
        "import torch.functional as F\n",
        "\n",
        "architecture_config = [\n",
        "    (7, 64, 2, 3),\n",
        "    \"M\",\n",
        "    (3, 192, 1, 1),\n",
        "    \"M\",\n",
        "    (1, 128, 1, 0),\n",
        "    (3, 256, 1, 1),\n",
        "    (1, 256, 1, 0),\n",
        "    (3, 512, 1, 1),\n",
        "    \"M\",\n",
        "    [(1, 256, 1, 0), (3, 512, 1, 1), 4],\n",
        "    (1, 512, 1, 0),\n",
        "    (3, 1024, 1, 1),\n",
        "    \"M\",\n",
        "    [(1, 512, 1, 0), (3, 1024, 1, 1), 2],\n",
        "    (3, 1024, 1, 1),\n",
        "    (3, 1024, 2, 1),\n",
        "    (3, 1024, 1, 1),\n",
        "    (3, 1024, 1, 1),\n",
        "]"
      ]
    },
    {
      "cell_type": "code",
      "source": [
        "class ConvBlock(nn.Module):\n",
        "  def __init__(self,in_channels,out_channels,**kwargs):\n",
        "    super(ConvBlock,self).__init__()\n",
        "    self.conv = nn.Conv2d(in_channels=in_channels,out_channels=out_channels,**kwargs)\n",
        "    self.bn = nn.BatchNorm2d(out_channels)\n",
        "    self.relu = nn.LeakyReLU(0.1)\n",
        "\n",
        "  def forward(self,x):\n",
        "    x = self.conv(x)\n",
        "    x = self.bn(x)\n",
        "    x = self.relu(x)\n",
        "    return x \n",
        "\n"
      ],
      "metadata": {
        "id": "QZbmdx-XLHj1"
      },
      "execution_count": null,
      "outputs": []
    },
    {
      "cell_type": "code",
      "source": [
        "class Yolov1(nn.Module):\n",
        "  def __init__(self,in_channel,out_channel,**kwargs):\n",
        "    super(Yolov1,self).__init__()\n",
        "\t  self.in_channes = 3\n",
        "    self.architecture = architecture_config\n",
        "    self.body = self.create_body(self.architecture)\n",
        "\n",
        "  def forward(self,x):\n",
        "    x = self.body(x)\n",
        "    x = torch.flattern(x,start_dim=1)\n",
        "    return x\n",
        "\n",
        "  def create_body(self,architecture):\n",
        "    layers = []\n",
        "    for arch in architecture:\n",
        "      if type(arch) == tuple:\n",
        "        layers += ConvBlock(in_channels =  self.in_channels,out_channels = arch[1],kernel_size = arch[0],stride = arch[2],padding = arch[3])\n",
        "        self.in_channels = arch[1]\n",
        "       \n",
        "      elif type(arch) == str:\n",
        "        layers += [nn.MaxPool2d(stride=2,kernel_size=2)]\n",
        "        self.in_channels /= 2\n",
        "\n",
        "      elif type(arch) == list:\n",
        "        for ar in range(arch[-1]):\n",
        "\n",
        "        \tlayers += ConvBlock(in_channels = self.in_channels,out_channels = arch[0][1],kernel_size = arch[0][0],stride = arch[0][2],padding = arch[0][3])\n",
        "         \tself.in_channels = arch[0][1]\n",
        "           \n",
        "          layers += ConvBlock(in_channels = self.in_channels,out_channels = arch[1][1],kerner_size = arch[1][0],stride = arch[1][2],padding = arch[1][3])\n",
        "          self.in_channels = arch[1][1]\n",
        "       \n",
        "   return nn.Sequtional(*layers)\n",
        "\n",
        "   \n",
        "\n",
        "\n",
        "\n",
        "\n",
        "\n"
      ],
      "metadata": {
        "id": "lt_2FrZJA1jp"
      },
      "execution_count": null,
      "outputs": []
    },
    {
      "cell_type": "code",
      "source": [
        "test = [[1,2],[2,3]]\n",
        "for i in test:\n",
        "  for j in i:\n",
        "    print(j)"
      ],
      "metadata": {
        "colab": {
          "base_uri": "https://localhost:8080/"
        },
        "id": "IXrx5vD-UgW6",
        "outputId": "ef1eeff4-1cc3-4abe-d49d-63e3b40bd9dc"
      },
      "execution_count": 4,
      "outputs": [
        {
          "output_type": "stream",
          "name": "stdout",
          "text": [
            "1\n",
            "2\n",
            "2\n",
            "3\n"
          ]
        }
      ]
    }
  ]
}