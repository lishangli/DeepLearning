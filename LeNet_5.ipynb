{
  "nbformat": 4,
  "nbformat_minor": 0,
  "metadata": {
    "colab": {
      "provenance": [],
      "collapsed_sections": [],
      "authorship_tag": "ABX9TyONnoqJI3PhMAJ29w4hSeEF",
      "include_colab_link": true
    },
    "kernelspec": {
      "name": "python3",
      "display_name": "Python 3"
    },
    "language_info": {
      "name": "python"
    }
  },
  "cells": [
    {
      "cell_type": "markdown",
      "metadata": {
        "id": "view-in-github",
        "colab_type": "text"
      },
      "source": [
        "<a href=\"https://colab.research.google.com/github/lishangli/DeepLearning/blob/master/LeNet_5.ipynb\" target=\"_parent\"><img src=\"https://colab.research.google.com/assets/colab-badge.svg\" alt=\"Open In Colab\"/></a>"
      ]
    },
    {
      "cell_type": "code",
      "source": [
        "import torch \n",
        "import torch.nn as nn\n",
        "import torch.nn.functional as F\n",
        "import torchvision\n",
        "import torch.optim as optim\n",
        "\n",
        "n_epochs = 3\n",
        "batch_size_train = 64\n",
        "batch_size_test = 5000\n",
        "learning_rate = 0.01\n",
        "momentum = 0.5\n",
        "log_interval = 100\n",
        "random_seed = 1\n",
        "torch.manual_seed(random_seed)\n",
        "device = torch.device(\"cuda:0\" if torch.cuda.is_available() else \"cpu\")"
      ],
      "metadata": {
        "id": "FkDB2yzAYuqw"
      },
      "execution_count": 25,
      "outputs": []
    },
    {
      "cell_type": "markdown",
      "source": [
        "1.LeNet-5 模型定义"
      ],
      "metadata": {
        "id": "ix1uVRGkYG0P"
      }
    },
    {
      "cell_type": "code",
      "execution_count": 19,
      "metadata": {
        "id": "ziToQ3J5JwD2"
      },
      "outputs": [],
      "source": [
        "\n",
        "\n",
        "class LeNet(nn.Module):\n",
        "  def __init__(self):\n",
        "    super().__init__()\n",
        "    self._conv1 = nn.Conv2d(1,6,5,1,2)\n",
        "    self._pool1 = nn.MaxPool2d(2,stride=2)\n",
        "    self._conv2 = nn.Conv2d(6,16,5)\n",
        "    self._pool2 = nn.MaxPool2d(2,stride=2)\n",
        "    self._c5 = nn.Linear(16*5*5,120)\n",
        "    self._f6 = nn.Linear(120,84)\n",
        "    self._output = nn.Linear(84,10)\n",
        "\n",
        "  def forward(self,x):\n",
        "    x = F.relu(self._conv1(x))\n",
        "    x = self._pool1(x)\n",
        "    x = F.relu(self._conv2(x))\n",
        "    x = self._pool2(x)\n",
        "    x = x.view(-1,16*5*5)\n",
        "    x = F.relu(self._c5(x))\n",
        "    x = F.relu(self._f6(x))\n",
        "    x = self._output(x)\n",
        "    return x\n",
        "\n"
      ]
    },
    {
      "cell_type": "markdown",
      "source": [
        "# 2.LeNet-5测试"
      ],
      "metadata": {
        "id": "wCegGrwVX_S5"
      }
    },
    {
      "cell_type": "code",
      "source": [
        "\n",
        "input = torch.rand([32,1,32,32])\n",
        "model = LeNet()\n",
        "print(model)\n",
        "output = model(input)\n",
        "print(output)"
      ],
      "metadata": {
        "colab": {
          "base_uri": "https://localhost:8080/"
        },
        "id": "BHABR2_fYREP",
        "outputId": "71e391ed-6cd5-4c6a-faef-4569b847bbc3"
      },
      "execution_count": 17,
      "outputs": [
        {
          "output_type": "stream",
          "name": "stdout",
          "text": [
            "LeNet(\n",
            "  (_conv1): Conv2d(1, 6, kernel_size=(5, 5), stride=(1, 1))\n",
            "  (_pool1): MaxPool2d(kernel_size=2, stride=2, padding=0, dilation=1, ceil_mode=False)\n",
            "  (_conv2): Conv2d(6, 16, kernel_size=(5, 5), stride=(1, 1))\n",
            "  (_pool2): MaxPool2d(kernel_size=2, stride=2, padding=0, dilation=1, ceil_mode=False)\n",
            "  (_c5): Linear(in_features=400, out_features=120, bias=True)\n",
            "  (_f6): Linear(in_features=120, out_features=84, bias=True)\n",
            "  (_output): Linear(in_features=84, out_features=10, bias=True)\n",
            ")\n",
            "tensor([[ 0.0954,  0.0613, -0.0280, -0.0907,  0.0942,  0.0903, -0.0045,  0.0980,\n",
            "          0.0219,  0.0516],\n",
            "        [ 0.0971,  0.0616, -0.0252, -0.0932,  0.0897,  0.0892, -0.0020,  0.0968,\n",
            "          0.0207,  0.0461],\n",
            "        [ 0.0931,  0.0622, -0.0258, -0.0932,  0.0931,  0.0896, -0.0072,  0.0956,\n",
            "          0.0219,  0.0476],\n",
            "        [ 0.0975,  0.0644, -0.0230, -0.0911,  0.0894,  0.0887, -0.0088,  0.0921,\n",
            "          0.0226,  0.0468],\n",
            "        [ 0.0977,  0.0671, -0.0306, -0.0942,  0.0946,  0.0921, -0.0053,  0.0953,\n",
            "          0.0235,  0.0474],\n",
            "        [ 0.0963,  0.0633, -0.0281, -0.0868,  0.0906,  0.0924, -0.0037,  0.0968,\n",
            "          0.0237,  0.0469],\n",
            "        [ 0.0952,  0.0670, -0.0282, -0.0897,  0.0911,  0.0935, -0.0062,  0.0942,\n",
            "          0.0237,  0.0488],\n",
            "        [ 0.0968,  0.0687, -0.0261, -0.0981,  0.0975,  0.0877, -0.0079,  0.0920,\n",
            "          0.0230,  0.0469],\n",
            "        [ 0.0967,  0.0643, -0.0286, -0.0928,  0.0942,  0.0884, -0.0039,  0.0918,\n",
            "          0.0240,  0.0498],\n",
            "        [ 0.0994,  0.0674, -0.0259, -0.0961,  0.0969,  0.0888, -0.0012,  0.0936,\n",
            "          0.0242,  0.0490],\n",
            "        [ 0.0940,  0.0662, -0.0287, -0.0926,  0.0951,  0.0886, -0.0055,  0.0942,\n",
            "          0.0231,  0.0487],\n",
            "        [ 0.0935,  0.0691, -0.0296, -0.0926,  0.0940,  0.0932, -0.0048,  0.0946,\n",
            "          0.0212,  0.0508],\n",
            "        [ 0.0935,  0.0672, -0.0287, -0.0948,  0.0963,  0.0904, -0.0045,  0.0942,\n",
            "          0.0234,  0.0442],\n",
            "        [ 0.0957,  0.0620, -0.0294, -0.0945,  0.0951,  0.0921, -0.0045,  0.0951,\n",
            "          0.0207,  0.0507],\n",
            "        [ 0.0946,  0.0599, -0.0263, -0.0908,  0.0976,  0.0858, -0.0044,  0.0950,\n",
            "          0.0185,  0.0479],\n",
            "        [ 0.0968,  0.0618, -0.0255, -0.0918,  0.0932,  0.0863, -0.0012,  0.0955,\n",
            "          0.0190,  0.0460],\n",
            "        [ 0.0936,  0.0631, -0.0270, -0.0935,  0.0921,  0.0896, -0.0038,  0.0957,\n",
            "          0.0231,  0.0456],\n",
            "        [ 0.0958,  0.0613, -0.0229, -0.0915,  0.0911,  0.0916, -0.0044,  0.0952,\n",
            "          0.0199,  0.0516],\n",
            "        [ 0.0977,  0.0612, -0.0268, -0.0926,  0.0970,  0.0895, -0.0031,  0.0986,\n",
            "          0.0221,  0.0508],\n",
            "        [ 0.0961,  0.0637, -0.0249, -0.0958,  0.0963,  0.0873, -0.0024,  0.0970,\n",
            "          0.0188,  0.0484],\n",
            "        [ 0.0926,  0.0629, -0.0270, -0.0918,  0.0915,  0.0904, -0.0030,  0.0963,\n",
            "          0.0215,  0.0479],\n",
            "        [ 0.0926,  0.0651, -0.0295, -0.0939,  0.0955,  0.0903, -0.0067,  0.0966,\n",
            "          0.0196,  0.0541],\n",
            "        [ 0.0980,  0.0601, -0.0283, -0.0909,  0.0924,  0.0908, -0.0055,  0.0950,\n",
            "          0.0235,  0.0478],\n",
            "        [ 0.0953,  0.0611, -0.0260, -0.0927,  0.0931,  0.0867, -0.0029,  0.0955,\n",
            "          0.0210,  0.0458],\n",
            "        [ 0.0960,  0.0623, -0.0270, -0.0927,  0.0895,  0.0895, -0.0037,  0.0952,\n",
            "          0.0200,  0.0461],\n",
            "        [ 0.0942,  0.0598, -0.0277, -0.0905,  0.0945,  0.0910, -0.0014,  0.0974,\n",
            "          0.0174,  0.0524],\n",
            "        [ 0.0964,  0.0703, -0.0282, -0.0950,  0.0997,  0.0933, -0.0048,  0.0961,\n",
            "          0.0255,  0.0516],\n",
            "        [ 0.0968,  0.0654, -0.0276, -0.0905,  0.0941,  0.0926, -0.0066,  0.0963,\n",
            "          0.0227,  0.0493],\n",
            "        [ 0.0960,  0.0638, -0.0284, -0.0943,  0.0915,  0.0883, -0.0057,  0.0927,\n",
            "          0.0221,  0.0516],\n",
            "        [ 0.0941,  0.0648, -0.0281, -0.0956,  0.0929,  0.0892, -0.0041,  0.0974,\n",
            "          0.0209,  0.0479],\n",
            "        [ 0.0960,  0.0647, -0.0291, -0.0931,  0.0922,  0.0896, -0.0053,  0.0943,\n",
            "          0.0212,  0.0487],\n",
            "        [ 0.0969,  0.0670, -0.0280, -0.0944,  0.0919,  0.0910, -0.0068,  0.0940,\n",
            "          0.0223,  0.0507]], grad_fn=<AddmmBackward0>)\n"
          ]
        }
      ]
    },
    {
      "cell_type": "code",
      "source": [
        "train_loader = torch.utils.data.DataLoader(\n",
        "    torchvision.datasets.MNIST('./data/', train=True, download=True,\n",
        "                               transform=torchvision.transforms.Compose([\n",
        "                                   torchvision.transforms.ToTensor(),\n",
        "                                   torchvision.transforms.Normalize(\n",
        "                                       (0.1307,), (0.3081,))\n",
        "                               ])),\n",
        "    batch_size=batch_size_train, shuffle=True)\n",
        "test_loader = torch.utils.data.DataLoader(\n",
        "    torchvision.datasets.MNIST('./data/', train=False, download=True,\n",
        "                               transform=torchvision.transforms.Compose([\n",
        "                                   torchvision.transforms.ToTensor(),\n",
        "                                   torchvision.transforms.Normalize(\n",
        "                                       (0.1307,), (0.3081,))\n",
        "                               ])),\n",
        "    batch_size=batch_size_test, shuffle=True)"
      ],
      "metadata": {
        "id": "UvTnwsCkYtwi"
      },
      "execution_count": 10,
      "outputs": []
    },
    {
      "cell_type": "code",
      "source": [
        "net = LeNet()\n",
        "net.to(device)\n",
        "\n",
        "loss_function = nn.CrossEntropyLoss()\n",
        "optimizer = optim.Adam(net.parameters(),lr=0.0001)\n",
        "epoches = 5\n",
        "for epoch in range(epoches):\n",
        "    rloss = 0.0\n",
        "    accuracy = 0.0\n",
        "    for batch_idx,(image,label) in enumerate(train_loader):\n",
        "        optimizer.zero_grad()\n",
        "        #print(image.shape)\n",
        "        image = image.to(device)\n",
        "        label = label.to(device)\n",
        "        outputs = net(image)\n",
        "        loss = loss_function(outputs,label)\n",
        "        loss.backward()\n",
        "        optimizer.step()\n",
        "        \n",
        "        rloss += loss.item()\n",
        "        if batch_idx % log_interval == 0:\n",
        "          print('Train Epoch: {},[{}/{}，{}]，Loss:{}'.format(epoch,batch_idx * len(image),len(train_loader.dataset),(batch_idx * len(image)/len(train_loader.dataset)),loss.item()))\n",
        "          rloss = 0.0\n",
        "        \n",
        "    with torch.no_grad():\n",
        "      correct = 0.0\n",
        "      total = 0\n",
        "      for data in test_loader:\n",
        "        image,label = data\n",
        "        image,label = image.to(device),label.to(device)\n",
        "        output = net(image)\n",
        "        _,predicted = torch.max(output.data,1)\n",
        "        total += label.size(0)\n",
        "        correct += (predicted == label).sum()\n",
        "      print('Epoch :{},{}'.format(epoch+1,float(correct/total)))\n",
        "print('finish training')\n",
        "\n",
        "#save_path = './Lenet.pth'\n",
        "#torch.save(net.state_dict(), save_path)"
      ],
      "metadata": {
        "colab": {
          "base_uri": "https://localhost:8080/"
        },
        "id": "BGTfPo547dlu",
        "outputId": "21d7886b-30bf-4a57-9820-3bd956c9c12b"
      },
      "execution_count": 31,
      "outputs": [
        {
          "output_type": "stream",
          "name": "stdout",
          "text": [
            "Train Epoch: 0,[0/60000，0.0]，Loss:2.2947158813476562\n",
            "Train Epoch: 0,[6400/60000，0.10666666666666667]，Loss:1.9002892971038818\n",
            "Train Epoch: 0,[12800/60000，0.21333333333333335]，Loss:0.7822117209434509\n",
            "Train Epoch: 0,[19200/60000，0.32]，Loss:0.34915533661842346\n",
            "Train Epoch: 0,[25600/60000，0.4266666666666667]，Loss:0.31968656182289124\n",
            "Train Epoch: 0,[32000/60000，0.5333333333333333]，Loss:0.21643362939357758\n",
            "Train Epoch: 0,[38400/60000，0.64]，Loss:0.5314700603485107\n",
            "Train Epoch: 0,[44800/60000，0.7466666666666667]，Loss:0.2795635163784027\n",
            "Train Epoch: 0,[51200/60000，0.8533333333333334]，Loss:0.18216845393180847\n",
            "Train Epoch: 0,[57600/60000，0.96]，Loss:0.29882410168647766\n",
            "Epoch :1,0.9298999905586243\n",
            "Train Epoch: 1,[0/60000，0.0]，Loss:0.22854264080524445\n",
            "Train Epoch: 1,[6400/60000，0.10666666666666667]，Loss:0.19019050896167755\n",
            "Train Epoch: 1,[12800/60000，0.21333333333333335]，Loss:0.23059532046318054\n",
            "Train Epoch: 1,[19200/60000，0.32]，Loss:0.3186953067779541\n",
            "Train Epoch: 1,[25600/60000，0.4266666666666667]，Loss:0.22313866019248962\n",
            "Train Epoch: 1,[32000/60000，0.5333333333333333]，Loss:0.2231225073337555\n",
            "Train Epoch: 1,[38400/60000，0.64]，Loss:0.14019949734210968\n",
            "Train Epoch: 1,[44800/60000，0.7466666666666667]，Loss:0.2568988800048828\n",
            "Train Epoch: 1,[51200/60000，0.8533333333333334]，Loss:0.12651047110557556\n",
            "Train Epoch: 1,[57600/60000，0.96]，Loss:0.09292379021644592\n",
            "Epoch :2,0.9544000029563904\n",
            "Train Epoch: 2,[0/60000，0.0]，Loss:0.08447057753801346\n",
            "Train Epoch: 2,[6400/60000，0.10666666666666667]，Loss:0.08711399883031845\n",
            "Train Epoch: 2,[12800/60000，0.21333333333333335]，Loss:0.22888384759426117\n",
            "Train Epoch: 2,[19200/60000，0.32]，Loss:0.045000720769166946\n",
            "Train Epoch: 2,[25600/60000，0.4266666666666667]，Loss:0.12376762926578522\n",
            "Train Epoch: 2,[32000/60000，0.5333333333333333]，Loss:0.06556231528520584\n",
            "Train Epoch: 2,[38400/60000，0.64]，Loss:0.1583573818206787\n",
            "Train Epoch: 2,[44800/60000，0.7466666666666667]，Loss:0.1399804949760437\n",
            "Train Epoch: 2,[51200/60000，0.8533333333333334]，Loss:0.04136884585022926\n",
            "Train Epoch: 2,[57600/60000，0.96]，Loss:0.061373937875032425\n",
            "Epoch :3,0.9649999737739563\n",
            "Train Epoch: 3,[0/60000，0.0]，Loss:0.10788293182849884\n",
            "Train Epoch: 3,[6400/60000，0.10666666666666667]，Loss:0.1548650562763214\n",
            "Train Epoch: 3,[12800/60000，0.21333333333333335]，Loss:0.09822842478752136\n",
            "Train Epoch: 3,[19200/60000，0.32]，Loss:0.07661503553390503\n",
            "Train Epoch: 3,[25600/60000，0.4266666666666667]，Loss:0.0808577686548233\n",
            "Train Epoch: 3,[32000/60000，0.5333333333333333]，Loss:0.06175069883465767\n",
            "Train Epoch: 3,[38400/60000，0.64]，Loss:0.24745815992355347\n",
            "Train Epoch: 3,[44800/60000，0.7466666666666667]，Loss:0.07845573127269745\n",
            "Train Epoch: 3,[51200/60000，0.8533333333333334]，Loss:0.0606163889169693\n",
            "Train Epoch: 3,[57600/60000，0.96]，Loss:0.09844471514225006\n",
            "Epoch :4,0.9699000120162964\n",
            "Train Epoch: 4,[0/60000，0.0]，Loss:0.03674853965640068\n",
            "Train Epoch: 4,[6400/60000，0.10666666666666667]，Loss:0.06252811849117279\n",
            "Train Epoch: 4,[12800/60000，0.21333333333333335]，Loss:0.16712912917137146\n",
            "Train Epoch: 4,[19200/60000，0.32]，Loss:0.06294966489076614\n",
            "Train Epoch: 4,[25600/60000，0.4266666666666667]，Loss:0.21198810636997223\n",
            "Train Epoch: 4,[32000/60000，0.5333333333333333]，Loss:0.07351962476968765\n",
            "Train Epoch: 4,[38400/60000，0.64]，Loss:0.08133397251367569\n",
            "Train Epoch: 4,[44800/60000，0.7466666666666667]，Loss:0.07892420887947083\n",
            "Train Epoch: 4,[51200/60000，0.8533333333333334]，Loss:0.16586528718471527\n",
            "Train Epoch: 4,[57600/60000，0.96]，Loss:0.15646426379680634\n",
            "Epoch :5,0.9754999876022339\n",
            "finish training\n"
          ]
        }
      ]
    }
  ]
}